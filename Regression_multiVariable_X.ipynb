{
 "cells": [
  {
   "cell_type": "code",
   "execution_count": 21,
   "metadata": {},
   "outputs": [],
   "source": [
    "# predict 'life' field based on multi independent variables  & Set metrics for validation\n",
    "\n",
    "import pandas as pd\n",
    "import numpy as np\n",
    "import matplotlib.pyplot as plt\n",
    "import seaborn as sns\n",
    "\n",
    "df = pd.read_csv(\"gapminder_all.csv\")\n",
    "# df.head()\n",
    "# df.drop(columns=['Region'])\n"
   ]
  },
  {
   "cell_type": "code",
   "execution_count": 22,
   "metadata": {},
   "outputs": [],
   "source": [
    "x = df.iloc[:,:]      # (139, 9)\n",
    "x = x.drop(columns=['Region' , 'life'])  # region is not numerical so deleted\n",
    "\n",
    "y = df[\"life\"].values\n",
    "y = y.reshape(-1,1)   # (139, 1)"
   ]
  },
  {
   "cell_type": "code",
   "execution_count": 23,
   "metadata": {},
   "outputs": [],
   "source": [
    "from sklearn.model_selection import train_test_split\n",
    "x_train , x_test , y_train , y_test = train_test_split(x,y,test_size = 0.2)  "
   ]
  },
  {
   "cell_type": "code",
   "execution_count": 24,
   "metadata": {},
   "outputs": [
    {
     "name": "stdout",
     "output_type": "stream",
     "text": [
      "Train Score : 0.8984313974402014\n",
      "Test Score  : 0.8772528201654101\n",
      "RMSE Score  : 3.226882166673054\n"
     ]
    }
   ],
   "source": [
    "from sklearn.metrics import mean_squared_error ,r2_score\n",
    "from sklearn.linear_model import LinearRegression  # R2 metrics\n",
    "reg = LinearRegression()\n",
    "\n",
    "reg.fit(x_train,y_train)\n",
    "\n",
    "y_pred = reg.predict(x_test)\n",
    "\n",
    "print( 'Train Score : {0}'.format( reg.score(x_train,y_train)))\n",
    "print( 'Test Score  : {0}'.format( reg.score(x_test,y_test)))   # print (r2_score(y_test , y_pred))\n",
    "\n",
    "print( 'RMSE Score  : {0}'.format( np.sqrt( mean_squared_error(y_test , y_pred)) ))\n",
    "\n"
   ]
  },
  {
   "cell_type": "code",
   "execution_count": null,
   "metadata": {},
   "outputs": [],
   "source": []
  }
 ],
 "metadata": {
  "kernelspec": {
   "display_name": "Python 3",
   "language": "python",
   "name": "python3"
  },
  "language_info": {
   "codemirror_mode": {
    "name": "ipython",
    "version": 3
   },
   "file_extension": ".py",
   "mimetype": "text/x-python",
   "name": "python",
   "nbconvert_exporter": "python",
   "pygments_lexer": "ipython3",
   "version": "3.7.3"
  }
 },
 "nbformat": 4,
 "nbformat_minor": 2
}
