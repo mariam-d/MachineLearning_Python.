{
 "cells": [
  {
   "cell_type": "code",
   "execution_count": 22,
   "metadata": {},
   "outputs": [],
   "source": [
    "# read dataset & preprocssing\n",
    "\n",
    "import pandas as pd\n",
    "import numpy as np\n",
    "\n",
    "df = pd.read_csv(\"gapminder_all.csv\")\n",
    "\n",
    "x = df.iloc[:,:]      # (139, 9)\n",
    "x = x.drop(columns=['Region' , 'life'])  # region is not numerical so deleted\n",
    "\n",
    "y = df[\"life\"].values\n",
    "y = y.reshape(-1,1)   # (139, 1)\n"
   ]
  },
  {
   "cell_type": "code",
   "execution_count": 23,
   "metadata": {},
   "outputs": [
    {
     "data": {
      "text/plain": [
       "0.8410936432586608"
      ]
     },
     "execution_count": 23,
     "metadata": {},
     "output_type": "execute_result"
    }
   ],
   "source": [
    "# Part 1 : cross validation  \n",
    "\n",
    "from sklearn.linear_model import LinearRegression \n",
    "from sklearn.model_selection import cross_val_score\n",
    "\n",
    "reg = LinearRegression()\n",
    "cv_score = cross_val_score(reg , x, y , cv = 5)\n",
    "\n",
    "np.mean(cv_score)"
   ]
  },
  {
   "cell_type": "code",
   "execution_count": 24,
   "metadata": {},
   "outputs": [
    {
     "name": "stdout",
     "output_type": "stream",
     "text": [
      " Ridge Score : 0.9190324838714027\n",
      " Lasso Score : 0.9149219972373899\n"
     ]
    }
   ],
   "source": [
    "# Part 2 : Regularized regression with  ' Ridge ' , ' Lasso '\n",
    "\n",
    "from sklearn.linear_model import Ridge , Lasso\n",
    "from sklearn.model_selection import train_test_split\n",
    "\n",
    "x_train , x_test , y_train , y_test = train_test_split(x , y ,test_size = 0.2 , random_state=42)\n",
    "\n",
    "ridge_reg = Ridge (alpha = 0.1 , normalize = True)\n",
    "lasso_reg = Lasso (alpha = 0.1 , normalize = True)\n",
    "\n",
    "ridge_reg.fit(x_train ,y_train )\n",
    "ridge_reg.predict(x_test)\n",
    "print( ' Ridge Score : {0}'.format(ridge_reg.score(x_test , y_test)))\n",
    "\n",
    "lasso_reg.fit(x_train ,y_train )\n",
    "lasso_reg.predict(x_test)\n",
    "print( ' Lasso Score : {0}'.format(lasso_reg.score(x_test , y_test)))\n"
   ]
  }
 ],
 "metadata": {
  "kernelspec": {
   "display_name": "Python 3",
   "language": "python",
   "name": "python3"
  },
  "language_info": {
   "codemirror_mode": {
    "name": "ipython",
    "version": 3
   },
   "file_extension": ".py",
   "mimetype": "text/x-python",
   "name": "python",
   "nbconvert_exporter": "python",
   "pygments_lexer": "ipython3",
   "version": "3.7.3"
  }
 },
 "nbformat": 4,
 "nbformat_minor": 2
}
